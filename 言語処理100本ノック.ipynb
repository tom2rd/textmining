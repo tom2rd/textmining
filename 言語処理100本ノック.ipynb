{
  "nbformat": 4,
  "nbformat_minor": 0,
  "metadata": {
    "colab": {
      "name": "言語処理100本ノック.ipynb",
      "version": "0.3.2",
      "provenance": [],
      "collapsed_sections": [],
      "toc_visible": true,
      "include_colab_link": true
    },
    "kernelspec": {
      "name": "python3",
      "display_name": "Python 3"
    }
  },
  "cells": [
    {
      "cell_type": "markdown",
      "metadata": {
        "id": "view-in-github",
        "colab_type": "text"
      },
      "source": [
        "<a href=\"https://colab.research.google.com/github/tom2rd/textmining/blob/master/%E8%A8%80%E8%AA%9E%E5%87%A6%E7%90%86100%E6%9C%AC%E3%83%8E%E3%83%83%E3%82%AF.ipynb\" target=\"_parent\"><img src=\"https://colab.research.google.com/assets/colab-badge.svg\" alt=\"Open In Colab\"/></a>"
      ]
    },
    {
      "cell_type": "markdown",
      "metadata": {
        "id": "s5la7jraIIRj",
        "colab_type": "text"
      },
      "source": [
        "#言語処理100本ノック 2015\n",
        "ちょこちょこと、試す用\n",
        "\n",
        "http://www.cl.ecei.tohoku.ac.jp/nlp100/\n",
        "\n",
        "\n",
        "素人の言語処理100本ノック:まとめ\n",
        "https://qiita.com/segavvy/items/fb50ba8097d59475f760\n",
        "\n",
        "回答集\n",
        "https://github.com/r9y9/nlp100\n"
      ]
    },
    {
      "cell_type": "markdown",
      "metadata": {
        "id": "CJglHyeQI8yo",
        "colab_type": "text"
      },
      "source": [
        "# 00. 文字列の逆順\n",
        "文字列\"stressed\"の文字を逆に（末尾から先頭に向かって）並べた文字列を得よ．\n",
        "\n",
        "Python tutorial  を読んでみましょう\n",
        "https://docs.python.org/ja/3/tutorial/\n",
        "\n",
        "文字　https://docs.python.org/ja/3/tutorial/introduction.html#strings\n",
        "\n",
        "List 型　https://docs.python.org/ja/3/tutorial/introduction.html#lists"
      ]
    },
    {
      "cell_type": "code",
      "metadata": {
        "id": "YHuWQ-eOID0g",
        "colab_type": "code",
        "outputId": "cc9b9803-1dd2-49a5-ec2f-fd181208c0ad",
        "colab": {
          "base_uri": "https://localhost:8080/",
          "height": 34
        }
      },
      "source": [
        "a = 'stressed'\n",
        "\n",
        "b = a[::-1]\n",
        "\n",
        "print(b)"
      ],
      "execution_count": 0,
      "outputs": [
        {
          "output_type": "stream",
          "text": [
            "desserts\n"
          ],
          "name": "stdout"
        }
      ]
    },
    {
      "cell_type": "markdown",
      "metadata": {
        "id": "DR2oIKv7V0ku",
        "colab_type": "text"
      },
      "source": [
        "#01. 「パタトクカシーー」\n",
        "\n",
        "「パタトクカシーー」という文字列の1,3,5,7文字目を取り出して連結した文字列を得よ．\n",
        "\n",
        "配列は、　[start:stop:step]　で取り出せる。\n",
        "\n",
        "method を使ってもよい　\n",
        "https://docs.python.org/ja/3/library/stdtypes.html#string-methods"
      ]
    },
    {
      "cell_type": "code",
      "metadata": {
        "id": "0vc96akOWVVg",
        "colab_type": "code",
        "outputId": "333d583a-57d2-4cef-efb1-cf05d0740d74",
        "colab": {
          "base_uri": "https://localhost:8080/",
          "height": 85
        }
      },
      "source": [
        "a='パタトクカシーー'\n",
        "b=a[::2]\n",
        "print(b)\n",
        "c=a[1::2]\n",
        "print(c)\n",
        "d = \"\".join([a[i] for i in [1, 3, 5, 7]])\n",
        "print(d)\n",
        "e=a[1]+a[3]+a[5]+a[7]\n",
        "print(e)"
      ],
      "execution_count": 7,
      "outputs": [
        {
          "output_type": "stream",
          "text": [
            "パトカー\n",
            "タクシー\n",
            "タクシー\n",
            "タクシー\n"
          ],
          "name": "stdout"
        }
      ]
    },
    {
      "cell_type": "markdown",
      "metadata": {
        "id": "6Z-C-OQkm8pc",
        "colab_type": "text"
      },
      "source": [
        "#02. 「パトカー」＋「タクシー」＝「パタトクカシーー」\n",
        "\n",
        "「パトカー」＋「タクシー」の文字を先頭から交互に連結して文字列「パタトクカシーー」を得よ．\n",
        "\n",
        "いろんなやり方ありますね。\n",
        "\n",
        "https://www.suzu6.net/posts/11/\n",
        "\n",
        "map で　ループ　関数を適用してくれる　https://www.sejuku.net/blog/24759"
      ]
    },
    {
      "cell_type": "code",
      "metadata": {
        "id": "YwqlbmG7nE_I",
        "colab_type": "code",
        "colab": {
          "base_uri": "https://localhost:8080/",
          "height": 68
        },
        "outputId": "23219711-e0a1-4794-b4e9-09613756a584"
      },
      "source": [
        "a='パトカー'\n",
        "b='タクシー'\n",
        "\n",
        "#愚直バージョン\n",
        "c=a[0]+b[0]+a[1]+b[1]+a[2]+b[2]+a[3]+b[3]\n",
        "print(c)\n",
        "#zip でそれぞれ取り出す\n",
        "c = \"\".join(i+j for i, j in zip(a, b))\n",
        "print(c)\n",
        "#map で　ループ　関数を適用してくれる　https://www.sejuku.net/blog/24759\n",
        "print(\"\".join(map(lambda x: ''.join(x), zip(a,b))))"
      ],
      "execution_count": 8,
      "outputs": [
        {
          "output_type": "stream",
          "text": [
            "パタトクカシーー\n",
            "パタトクカシーー\n",
            "パタトクカシーー\n"
          ],
          "name": "stdout"
        }
      ]
    }
  ]
}