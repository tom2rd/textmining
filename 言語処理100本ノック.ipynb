{
  "nbformat": 4,
  "nbformat_minor": 0,
  "metadata": {
    "colab": {
      "name": "言語処理100本ノック.ipynb",
      "version": "0.3.2",
      "provenance": [],
      "include_colab_link": true
    },
    "kernelspec": {
      "name": "python3",
      "display_name": "Python 3"
    }
  },
  "cells": [
    {
      "cell_type": "markdown",
      "metadata": {
        "id": "view-in-github",
        "colab_type": "text"
      },
      "source": [
        "<a href=\"https://colab.research.google.com/github/tom2rd/textmining/blob/master/%E8%A8%80%E8%AA%9E%E5%87%A6%E7%90%86100%E6%9C%AC%E3%83%8E%E3%83%83%E3%82%AF.ipynb\" target=\"_parent\"><img src=\"https://colab.research.google.com/assets/colab-badge.svg\" alt=\"Open In Colab\"/></a>"
      ]
    },
    {
      "cell_type": "markdown",
      "metadata": {
        "id": "s5la7jraIIRj",
        "colab_type": "text"
      },
      "source": [
        "#言語処理100本ノック 2015\n",
        "ちょこちょこと、試す用\n",
        "\n",
        "http://www.cl.ecei.tohoku.ac.jp/nlp100/\n",
        "\n",
        "\n",
        "素人の言語処理100本ノック:まとめ\n",
        "https://qiita.com/segavvy/items/fb50ba8097d59475f760\n",
        "\n",
        "回答集\n",
        "https://github.com/r9y9/nlp100\n"
      ]
    },
    {
      "cell_type": "markdown",
      "metadata": {
        "id": "CJglHyeQI8yo",
        "colab_type": "text"
      },
      "source": [
        "# 00. 文字列の逆順\n",
        "文字列\"stressed\"の文字を逆に（末尾から先頭に向かって）並べた文字列を得よ．\n",
        "\n",
        "Python tutorial  を読んでみましょう\n",
        "https://docs.python.org/ja/3/tutorial/\n",
        "\n",
        "List 型\n",
        "https://docs.python.org/ja/3/tutorial/introduction.html#lists"
      ]
    },
    {
      "cell_type": "code",
      "metadata": {
        "id": "YHuWQ-eOID0g",
        "colab_type": "code",
        "colab": {
          "base_uri": "https://localhost:8080/",
          "height": 34
        },
        "outputId": "cc9b9803-1dd2-49a5-ec2f-fd181208c0ad"
      },
      "source": [
        "a = 'stressed'\n",
        "\n",
        "b = a[::-1]\n",
        "\n",
        "print(b)"
      ],
      "execution_count": 1,
      "outputs": [
        {
          "output_type": "stream",
          "text": [
            "desserts\n"
          ],
          "name": "stdout"
        }
      ]
    },
    {
      "cell_type": "markdown",
      "metadata": {
        "id": "DR2oIKv7V0ku",
        "colab_type": "text"
      },
      "source": [
        "#　01. 「パタトクカシーー」\n",
        "「パタトクカシーー」という文字列の1,3,5,7文字目を取り出して連結した文字列を得よ．"
      ]
    },
    {
      "cell_type": "markdown",
      "metadata": {
        "id": "ZUYW0USSKUU4",
        "colab_type": "text"
      },
      "source": [
        ""
      ]
    },
    {
      "cell_type": "code",
      "metadata": {
        "id": "0vc96akOWVVg",
        "colab_type": "code",
        "colab": {
          "base_uri": "https://localhost:8080/",
          "height": 51
        },
        "outputId": "a0e3fa5e-8730-40fd-a200-f3e4c03573f1"
      },
      "source": [
        "a='パタトクカシーー'\n",
        "b=a[::2]\n",
        "c = \"\".join([a[i] for i in [1, 3, 5, 7]])\n",
        "print(b)\n",
        "print(c)"
      ],
      "execution_count": 6,
      "outputs": [
        {
          "output_type": "stream",
          "text": [
            "パトカー\n",
            "タクシー\n"
          ],
          "name": "stdout"
        }
      ]
    }
  ]
}