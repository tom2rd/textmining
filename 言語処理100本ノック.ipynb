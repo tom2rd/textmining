{
  "nbformat": 4,
  "nbformat_minor": 0,
  "metadata": {
    "colab": {
      "name": "言語処理100本ノック.ipynb",
      "version": "0.3.2",
      "provenance": [],
      "collapsed_sections": [],
      "toc_visible": true,
      "include_colab_link": true
    },
    "kernelspec": {
      "name": "python3",
      "display_name": "Python 3"
    }
  },
  "cells": [
    {
      "cell_type": "markdown",
      "metadata": {
        "id": "view-in-github",
        "colab_type": "text"
      },
      "source": [
        "<a href=\"https://colab.research.google.com/github/tom2rd/textmining/blob/master/%E8%A8%80%E8%AA%9E%E5%87%A6%E7%90%86100%E6%9C%AC%E3%83%8E%E3%83%83%E3%82%AF.ipynb\" target=\"_parent\"><img src=\"https://colab.research.google.com/assets/colab-badge.svg\" alt=\"Open In Colab\"/></a>"
      ]
    },
    {
      "cell_type": "markdown",
      "metadata": {
        "id": "s5la7jraIIRj",
        "colab_type": "text"
      },
      "source": [
        "#言語処理100本ノック 2015\n",
        "ちょこちょこと、試す用\n",
        "\n",
        "http://www.cl.ecei.tohoku.ac.jp/nlp100/\n",
        "\n",
        "\n",
        "素人の言語処理100本ノック:まとめ\n",
        "https://qiita.com/segavvy/items/fb50ba8097d59475f760\n",
        "\n",
        "回答集\n",
        "https://github.com/r9y9/nlp100\n"
      ]
    },
    {
      "cell_type": "markdown",
      "metadata": {
        "id": "0_1YDg5pU-L3",
        "colab_type": "text"
      },
      "source": [
        "#第1章: 準備運動\n",
        "文字列操作　の　基礎\n",
        "\n",
        "内包表記に慣れる？"
      ]
    },
    {
      "cell_type": "markdown",
      "metadata": {
        "id": "CJglHyeQI8yo",
        "colab_type": "text"
      },
      "source": [
        "# 00. 文字列の逆順\n",
        "文字列\"stressed\"の文字を逆に（末尾から先頭に向かって）並べた文字列を得よ．\n",
        "\n",
        "Python tutorial  を読んでみましょう\n",
        "https://docs.python.org/ja/3/tutorial/\n",
        "\n",
        "文字　https://docs.python.org/ja/3/tutorial/introduction.html#strings\n",
        "\n",
        "List 型　https://docs.python.org/ja/3/tutorial/introduction.html#lists"
      ]
    },
    {
      "cell_type": "code",
      "metadata": {
        "id": "YHuWQ-eOID0g",
        "colab_type": "code",
        "outputId": "cc9b9803-1dd2-49a5-ec2f-fd181208c0ad",
        "colab": {
          "base_uri": "https://localhost:8080/",
          "height": 34
        }
      },
      "source": [
        "a = 'stressed'\n",
        "\n",
        "b = a[::-1]\n",
        "\n",
        "print(b)"
      ],
      "execution_count": 0,
      "outputs": [
        {
          "output_type": "stream",
          "text": [
            "desserts\n"
          ],
          "name": "stdout"
        }
      ]
    },
    {
      "cell_type": "markdown",
      "metadata": {
        "id": "DR2oIKv7V0ku",
        "colab_type": "text"
      },
      "source": [
        "#01. 「パタトクカシーー」\n",
        "\n",
        "「パタトクカシーー」という文字列の1,3,5,7文字目を取り出して連結した文字列を得よ．\n",
        "\n",
        "配列は、　[start:stop:step]　で取り出せる。スライスというらしい\n",
        "\n",
        "method を使ってもよい　\n",
        "https://docs.python.org/ja/3/library/stdtypes.html#string-methods"
      ]
    },
    {
      "cell_type": "code",
      "metadata": {
        "id": "0vc96akOWVVg",
        "colab_type": "code",
        "outputId": "333d583a-57d2-4cef-efb1-cf05d0740d74",
        "colab": {
          "base_uri": "https://localhost:8080/",
          "height": 85
        }
      },
      "source": [
        "a='パタトクカシーー'\n",
        "b=a[::2]\n",
        "print(b)\n",
        "c=a[1::2]\n",
        "print(c)\n",
        "d = \"\".join([a[i] for i in [1, 3, 5, 7]])\n",
        "print(d)\n",
        "e=a[1]+a[3]+a[5]+a[7]\n",
        "print(e)"
      ],
      "execution_count": 7,
      "outputs": [
        {
          "output_type": "stream",
          "text": [
            "パトカー\n",
            "タクシー\n",
            "タクシー\n",
            "タクシー\n"
          ],
          "name": "stdout"
        }
      ]
    },
    {
      "cell_type": "markdown",
      "metadata": {
        "id": "6Z-C-OQkm8pc",
        "colab_type": "text"
      },
      "source": [
        "#02. 「パトカー」＋「タクシー」＝「パタトクカシーー」\n",
        "\n",
        "「パトカー」＋「タクシー」の文字を先頭から交互に連結して文字列「パタトクカシーー」を得よ．\n",
        "\n",
        "いろんなやり方ありますね。\n",
        "\n",
        "https://www.suzu6.net/posts/11/\n",
        "\n",
        "map で　ループ　関数を適用してくれる　https://www.sejuku.net/blog/24759"
      ]
    },
    {
      "cell_type": "code",
      "metadata": {
        "id": "YwqlbmG7nE_I",
        "colab_type": "code",
        "colab": {
          "base_uri": "https://localhost:8080/",
          "height": 68
        },
        "outputId": "23219711-e0a1-4794-b4e9-09613756a584"
      },
      "source": [
        "a='パトカー'\n",
        "b='タクシー'\n",
        "\n",
        "#愚直バージョン\n",
        "c=a[0]+b[0]+a[1]+b[1]+a[2]+b[2]+a[3]+b[3]\n",
        "print(c)\n",
        "#zip でそれぞれ取り出す\n",
        "c = \"\".join(i+j for i, j in zip(a, b))\n",
        "print(c)\n",
        "#map で　ループ　関数を適用してくれる　https://www.sejuku.net/blog/24759\n",
        "print(\"\".join(map(lambda x: ''.join(x), zip(a,b))))"
      ],
      "execution_count": 8,
      "outputs": [
        {
          "output_type": "stream",
          "text": [
            "パタトクカシーー\n",
            "パタトクカシーー\n",
            "パタトクカシーー\n"
          ],
          "name": "stdout"
        }
      ]
    },
    {
      "cell_type": "markdown",
      "metadata": {
        "id": "3FRfbyYlu61I",
        "colab_type": "text"
      },
      "source": [
        "#03. 円周率\n",
        "\"Now I need a drink, alcoholic of course, after the heavy lectures involving quantum mechanics.\"という文を単語に分解し，各単語の（アルファベットの）文字数を先頭から出現順に並べたリストを作成せよ．\n",
        "\n",
        "str.split  https://docs.python.org/ja/3/library/stdtypes.html?highlight=split#str.split\n",
        "\n",
        "str.strip https://docs.python.org/ja/3/library/stdtypes.html?highlight=strip#str.strip\n",
        "\n",
        "リスト内包表現　https://docs.python.org/ja/3/tutorial/datastructures.html?highlight=%E5%86%85%E5%8C%85#list-comprehensions"
      ]
    },
    {
      "cell_type": "code",
      "metadata": {
        "id": "5HUkr3IovDW-",
        "colab_type": "code",
        "colab": {
          "base_uri": "https://localhost:8080/",
          "height": 105
        },
        "outputId": "0f220898-d2f5-4fc8-ccb7-e5960ec3aa78"
      },
      "source": [
        "a=\"Now I need a drink, alcoholic of course, after the heavy lectures involving quantum mechanics.\"\n",
        "print(a)\n",
        "b=a.split()\n",
        "print(b)\n",
        "c=b[4].strip(\",.\")\n",
        "print(c)\n",
        "count = [len(i.strip(\",.\")) for i in a.split()]\n",
        "print(count)\n"
      ],
      "execution_count": 18,
      "outputs": [
        {
          "output_type": "stream",
          "text": [
            "Now I need a drink, alcoholic of course, after the heavy lectures involving quantum mechanics.\n",
            "['Now', 'I', 'need', 'a', 'drink,', 'alcoholic', 'of', 'course,', 'after', 'the', 'heavy', 'lectures', 'involving', 'quantum', 'mechanics.']\n",
            "drink\n",
            "[3, 1, 4, 1, 5, 9, 2, 6, 5, 3, 5, 8, 9, 7, 9]\n"
          ],
          "name": "stdout"
        }
      ]
    },
    {
      "cell_type": "markdown",
      "metadata": {
        "id": "HFA-Y1RB0jc1",
        "colab_type": "text"
      },
      "source": [
        "#04. 元素記号\n",
        "\"Hi He Lied Because Boron Could Not Oxidize Fluorine. New Nations Might Also Sign Peace Security Clause. Arthur King Can.\"という文を単語に分解し，1, 5, 6, 7, 8, 9, 15, 16, 19番目の単語は先頭の1文字，それ以外の単語は先頭に2文字を取り出し，取り出した文字列から単語の位置（先頭から何番目の単語か）への連想配列（辞書型もしくはマップ型）を作成せよ．\n",
        "\n",
        "連想配列　\n",
        "\n",
        "辞書型　https://docs.python.org/ja/3/tutorial/datastructures.html?highlight=%E9%80%A3%E6%83%B3\n",
        "\n",
        "マップ型\n",
        "\n",
        "enumerate イテレーションを返す　ここでは、単語列の順番 enum + rate かな？\n",
        "https://docs.python.org/ja/3/library/functions.html?highlight=enumerate#enumerate\n"
      ]
    },
    {
      "cell_type": "code",
      "metadata": {
        "id": "gMOtSGy-H5xd",
        "colab_type": "code",
        "colab": {
          "base_uri": "https://localhost:8080/",
          "height": 241
        },
        "outputId": "9fbe1f9c-1748-45b6-e78f-31b76373142a"
      },
      "source": [
        "s = \"Hi He Lied Because Boron Could Not Oxidize Fluorine. New Nations Might Also Sign Peace Security Clause. Arthur King Can.\"\n",
        "words = s.split(\" \")\n",
        "print(words)\n",
        "\n",
        "dic = {word[:2-(i in (1,5,6,7,8,9,15,16,19))]:i for i, word in enumerate(s.replace(\".\", \"\").split(), 1)}\n",
        "print(dic)\n",
        "print(\"dict\")\n",
        "print(dict(enumerate(s.replace(\".\",\"\").split(),start=1)))\n",
        "print(\"list\")\n",
        "print(list(enumerate(s.replace(\".\",\"\").split(),start=1)))\n",
        "\n",
        "\n",
        "a = [(words[i - 1][0], i) for i in [1, 5, 6, 7, 8, 9, 15, 16, 19]]\n",
        "b = [(words[i - 1][:2], i)  for i in [2, 3, 4, 10, 11, 12, 13, 14, 17, 18, 20]]\n",
        "print(\"a\")\n",
        "print(a)\n",
        "print(\"b\")\n",
        "print(b)\n",
        "\n",
        "c = {x: y for (x, y) in a + b}\n",
        "print(sorted(c))\n",
        "print(list(c))\n"
      ],
      "execution_count": 42,
      "outputs": [
        {
          "output_type": "stream",
          "text": [
            "['Hi', 'He', 'Lied', 'Because', 'Boron', 'Could', 'Not', 'Oxidize', 'Fluorine.', 'New', 'Nations', 'Might', 'Also', 'Sign', 'Peace', 'Security', 'Clause.', 'Arthur', 'King', 'Can.']\n",
            "{'H': 1, 'He': 2, 'Li': 3, 'Be': 4, 'B': 5, 'C': 6, 'N': 7, 'O': 8, 'F': 9, 'Ne': 10, 'Na': 11, 'Mi': 12, 'Al': 13, 'Si': 14, 'P': 15, 'S': 16, 'Cl': 17, 'Ar': 18, 'K': 19, 'Ca': 20}\n",
            "dict\n",
            "{1: 'Hi', 2: 'He', 3: 'Lied', 4: 'Because', 5: 'Boron', 6: 'Could', 7: 'Not', 8: 'Oxidize', 9: 'Fluorine', 10: 'New', 11: 'Nations', 12: 'Might', 13: 'Also', 14: 'Sign', 15: 'Peace', 16: 'Security', 17: 'Clause', 18: 'Arthur', 19: 'King', 20: 'Can'}\n",
            "list\n",
            "[(1, 'Hi'), (2, 'He'), (3, 'Lied'), (4, 'Because'), (5, 'Boron'), (6, 'Could'), (7, 'Not'), (8, 'Oxidize'), (9, 'Fluorine'), (10, 'New'), (11, 'Nations'), (12, 'Might'), (13, 'Also'), (14, 'Sign'), (15, 'Peace'), (16, 'Security'), (17, 'Clause'), (18, 'Arthur'), (19, 'King'), (20, 'Can')]\n",
            "a\n",
            "[('H', 1), ('B', 5), ('C', 6), ('N', 7), ('O', 8), ('F', 9), ('P', 15), ('S', 16), ('K', 19)]\n",
            "b\n",
            "[('He', 2), ('Li', 3), ('Be', 4), ('Ne', 10), ('Na', 11), ('Mi', 12), ('Al', 13), ('Si', 14), ('Cl', 17), ('Ar', 18), ('Ca', 20)]\n",
            "['Al', 'Ar', 'B', 'Be', 'C', 'Ca', 'Cl', 'F', 'H', 'He', 'K', 'Li', 'Mi', 'N', 'Na', 'Ne', 'O', 'P', 'S', 'Si']\n",
            "['H', 'B', 'C', 'N', 'O', 'F', 'P', 'S', 'K', 'He', 'Li', 'Be', 'Ne', 'Na', 'Mi', 'Al', 'Si', 'Cl', 'Ar', 'Ca']\n"
          ],
          "name": "stdout"
        }
      ]
    }
  ]
}