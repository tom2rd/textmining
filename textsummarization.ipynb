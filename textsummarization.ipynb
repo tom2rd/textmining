{
  "nbformat": 4,
  "nbformat_minor": 0,
  "metadata": {
    "colab": {
      "name": "textsummarization.ipynb",
      "version": "0.3.2",
      "provenance": [],
      "include_colab_link": true
    },
    "kernelspec": {
      "name": "python3",
      "display_name": "Python 3"
    }
  },
  "cells": [
    {
      "cell_type": "markdown",
      "metadata": {
        "id": "view-in-github",
        "colab_type": "text"
      },
      "source": [
        "<a href=\"https://colab.research.google.com/github/tom2rd/textmining/blob/master/textsummarization.ipynb\" target=\"_parent\"><img src=\"https://colab.research.google.com/assets/colab-badge.svg\" alt=\"Open In Colab\"/></a>"
      ]
    },
    {
      "cell_type": "markdown",
      "metadata": {
        "id": "-uQ7yhDnE8Hj",
        "colab_type": "text"
      },
      "source": [
        "#Google colab で gensimを使って要約を試す\n",
        "Gensimについては、こちらを参照\n",
        "\n",
        "* チュートリアル　https://radimrehurek.com/gensim/tutorial.html\n",
        "* 記事　https://www.atmarkit.co.jp/ait/articles/1905/22/news007_2.html\n",
        "* Doc2Vecは https://deepage.net/machine_learning/2017/01/08/doc2vec.html\n",
        "*記事　https://www.atmarkit.co.jp/ait/articles/1905/22/news007_2.html\n",
        "\n",
        "\n",
        "\n",
        " \n",
        "\n",
        "---\n",
        "\n",
        "まずは、gensim をインストール\n",
        "\n",
        "\n"
      ]
    },
    {
      "cell_type": "code",
      "metadata": {
        "id": "OjYJ7xTgNKw2",
        "colab_type": "code",
        "outputId": "63bd4ebd-2952-46ef-c8cd-deb43a7eae00",
        "colab": {
          "base_uri": "https://localhost:8080/",
          "height": 440
        }
      },
      "source": [
        "!pip install --upgrade gensim"
      ],
      "execution_count": 0,
      "outputs": [
        {
          "output_type": "stream",
          "text": [
            "Collecting gensim\n",
            "\u001b[?25l  Downloading https://files.pythonhosted.org/packages/d3/4b/19eecdf07d614665fa889857dc56ac965631c7bd816c3476d2f0cac6ea3b/gensim-3.7.3-cp36-cp36m-manylinux1_x86_64.whl (24.2MB)\n",
            "\u001b[K     |████████████████████████████████| 24.2MB 1.8MB/s \n",
            "\u001b[?25hRequirement already satisfied, skipping upgrade: six>=1.5.0 in /usr/local/lib/python3.6/dist-packages (from gensim) (1.12.0)\n",
            "Requirement already satisfied, skipping upgrade: scipy>=0.18.1 in /usr/local/lib/python3.6/dist-packages (from gensim) (1.2.1)\n",
            "Requirement already satisfied, skipping upgrade: numpy>=1.11.3 in /usr/local/lib/python3.6/dist-packages (from gensim) (1.16.3)\n",
            "Requirement already satisfied, skipping upgrade: smart-open>=1.7.0 in /usr/local/lib/python3.6/dist-packages (from gensim) (1.8.3)\n",
            "Requirement already satisfied, skipping upgrade: boto3 in /usr/local/lib/python3.6/dist-packages (from smart-open>=1.7.0->gensim) (1.9.148)\n",
            "Requirement already satisfied, skipping upgrade: requests in /usr/local/lib/python3.6/dist-packages (from smart-open>=1.7.0->gensim) (2.21.0)\n",
            "Requirement already satisfied, skipping upgrade: boto>=2.32 in /usr/local/lib/python3.6/dist-packages (from smart-open>=1.7.0->gensim) (2.49.0)\n",
            "Requirement already satisfied, skipping upgrade: botocore<1.13.0,>=1.12.148 in /usr/local/lib/python3.6/dist-packages (from boto3->smart-open>=1.7.0->gensim) (1.12.148)\n",
            "Requirement already satisfied, skipping upgrade: s3transfer<0.3.0,>=0.2.0 in /usr/local/lib/python3.6/dist-packages (from boto3->smart-open>=1.7.0->gensim) (0.2.0)\n",
            "Requirement already satisfied, skipping upgrade: jmespath<1.0.0,>=0.7.1 in /usr/local/lib/python3.6/dist-packages (from boto3->smart-open>=1.7.0->gensim) (0.9.4)\n",
            "Requirement already satisfied, skipping upgrade: chardet<3.1.0,>=3.0.2 in /usr/local/lib/python3.6/dist-packages (from requests->smart-open>=1.7.0->gensim) (3.0.4)\n",
            "Requirement already satisfied, skipping upgrade: urllib3<1.25,>=1.21.1 in /usr/local/lib/python3.6/dist-packages (from requests->smart-open>=1.7.0->gensim) (1.24.3)\n",
            "Requirement already satisfied, skipping upgrade: certifi>=2017.4.17 in /usr/local/lib/python3.6/dist-packages (from requests->smart-open>=1.7.0->gensim) (2019.3.9)\n",
            "Requirement already satisfied, skipping upgrade: idna<2.9,>=2.5 in /usr/local/lib/python3.6/dist-packages (from requests->smart-open>=1.7.0->gensim) (2.8)\n",
            "Requirement already satisfied, skipping upgrade: python-dateutil<3.0.0,>=2.1; python_version >= \"2.7\" in /usr/local/lib/python3.6/dist-packages (from botocore<1.13.0,>=1.12.148->boto3->smart-open>=1.7.0->gensim) (2.5.3)\n",
            "Requirement already satisfied, skipping upgrade: docutils>=0.10 in /usr/local/lib/python3.6/dist-packages (from botocore<1.13.0,>=1.12.148->boto3->smart-open>=1.7.0->gensim) (0.14)\n",
            "Installing collected packages: gensim\n",
            "  Found existing installation: gensim 3.6.0\n",
            "    Uninstalling gensim-3.6.0:\n",
            "      Successfully uninstalled gensim-3.6.0\n",
            "Successfully installed gensim-3.7.3\n"
          ],
          "name": "stdout"
        }
      ]
    },
    {
      "cell_type": "markdown",
      "metadata": {
        "id": "3fzF6-u5FGL-",
        "colab_type": "text"
      },
      "source": [
        "Python のロギング　と　GensimのSummarizeをインポート\n",
        "\n",
        "*   ロギングは、https://qiita.com/__init__/items/91e5841ed53d55a7895e\n",
        "*   要約は、https://radimrehurek.com/gensim/summarization/summariser.html\n",
        "\n",
        "\n",
        "\n"
      ]
    },
    {
      "cell_type": "code",
      "metadata": {
        "id": "4ebgj1eGNarX",
        "colab_type": "code",
        "outputId": "49ec286d-20c6-4cae-e1a8-9560bc064176",
        "colab": {
          "base_uri": "https://localhost:8080/",
          "height": 34
        }
      },
      "source": [
        "import logging\n",
        "logging.basicConfig(format='%(asctime)s : %(levelname)s : %(message)s', level=logging.INFO)\n",
        "\n",
        "from gensim.summarization import summarize"
      ],
      "execution_count": 0,
      "outputs": [
        {
          "output_type": "stream",
          "text": [
            "2019-05-21 11:36:25,054 : INFO : 'pattern' package not found; tag filters are not available for English\n"
          ],
          "name": "stderr"
        }
      ]
    },
    {
      "cell_type": "markdown",
      "metadata": {
        "id": "9iT-ZHdwI_Uz",
        "colab_type": "text"
      },
      "source": [
        "Textに英語を入れる　場合　これ　（Summarizeは英語のコーパスしか持ってない模様）"
      ]
    },
    {
      "cell_type": "code",
      "metadata": {
        "id": "4A28OdJ4LcOt",
        "colab_type": "code",
        "outputId": "1eac3d7f-20fe-4515-ca93-bf2da34645b4",
        "colab": {
          "base_uri": "https://localhost:8080/",
          "height": 70
        }
      },
      "source": [
        "text = \"Thomas A. Anderson is a man living two lives. By day he is an \" + \\\n",
        "    \"average computer programmer and by night a hacker known as \" + \\\n",
        "    \"Neo. Neo has always questioned his reality, but the truth is \" + \\\n",
        "    \"far beyond his imagination. Neo finds himself targeted by the \" + \\\n",
        "    \"police when he is contacted by Morpheus, a legendary computer \" + \\\n",
        "    \"hacker branded a terrorist by the government. Morpheus awakens \" + \\\n",
        "    \"Neo to the real world, a ravaged wasteland where most of \" + \\\n",
        "    \"humanity have been captured by a race of machines that live \" + \\\n",
        "    \"off of the humans' body heat and electrochemical energy and \" + \\\n",
        "    \"who imprison their minds within an artificial reality known as \" + \\\n",
        "    \"the Matrix. As a rebel against the machines, Neo must return to \" + \\\n",
        "    \"the Matrix and confront the agents: super-powerful computer \" + \\\n",
        "    \"programs devoted to snuffing out Neo and the entire human \" + \\\n",
        "    \"rebellion. \"\n",
        "\n",
        "print('Input text:') \n",
        "print(text)"
      ],
      "execution_count": 0,
      "outputs": [
        {
          "output_type": "stream",
          "text": [
            "Input text:\n",
            "Thomas A. Anderson is a man living two lives. By day he is an average computer programmer and by night a hacker known as Neo. Neo has always questioned his reality, but the truth is far beyond his imagination. Neo finds himself targeted by the police when he is contacted by Morpheus, a legendary computer hacker branded a terrorist by the government. Morpheus awakens Neo to the real world, a ravaged wasteland where most of humanity have been captured by a race of machines that live off of the humans' body heat and electrochemical energy and who imprison their minds within an artificial reality known as the Matrix. As a rebel against the machines, Neo must return to the Matrix and confront the agents: super-powerful computer programs devoted to snuffing out Neo and the entire human rebellion. \n"
          ],
          "name": "stdout"
        }
      ]
    },
    {
      "cell_type": "markdown",
      "metadata": {
        "id": "dW6O_iGQJJJw",
        "colab_type": "text"
      },
      "source": [
        "日本語の文書を入れてみる場合　（これは、後のサマリー・要約・キーワードなどは動かない）　一応、試す用なので、ここは、飛ばすこと（笑）"
      ]
    },
    {
      "cell_type": "code",
      "metadata": {
        "id": "bf1pIVjBNqso",
        "colab_type": "code",
        "outputId": "1752915b-5d62-4224-cd26-88e483d93eb0",
        "colab": {
          "base_uri": "https://localhost:8080/",
          "height": 71
        }
      },
      "source": [
        "text = \"そもそも、「小平のために」議論したい人は、的な価値観を持っているのではないかな。の価値観の人だと「市議会や町内会などがあるのに、なんで普通の人が議論しているんだ」と思っていたり、の価値観の人だと「好きな人が勝手にやればよい」なんて思っているような気がします。そういう価値観を、敢えて明示させることによって、逆にいろんな議論ができると期待するのですが、どうですかね。\"+ \\\n",
        "    \"もちろん他の価値観に関する議題はあると思います. \"+ \\\n",
        "    \"例えば、の価値観でいうと、小平市って、飛騨高山の家具職人の人が「なぜこんな立派な木が生えているの？」と驚くくらいの大木が民家の庭先にあったりする。それって、小平市の大きな特長だと思うのだけれど、そういう木が個人の努力（少しは市の援助があるらしい）で保存されているのって、小平の将来を考えると大きな課題なんじゃないかなと思いませんか。でも、本当の事を言うと、小平市って生活するのにほとんど困らないから、あまり小平市の事を考えてこなかったのが事実です。\" + \\\n",
        "    \"でも、最近、近所に高齢者しか住んでいない古い家が多くなってきて、諸々を相談されることが増えてきています。家の修理とか信頼できる工務店が何処にあるのかよく分からないじゃないですか。そういうのを気楽に相談できるところがあるといいなと思うのですが、どうですか。 \"+ \\\n",
        "    \"本物の論点で実際に、議論することで、何かいい議論の結果を出すというのがいいですね.\" + \\\n",
        "    \"議論のネタの一つとして、ちょっと古いですが、自治条例を小平市が作った時の検討部会の課題が乗ってまして、これって、わりと普遍的な議論ネタだと思います.\" +\\\n",
        "    \"第１部会 検討の記録.\"\n",
        "\n",
        "print('Input text:') \n",
        "print(text)\n"
      ],
      "execution_count": 0,
      "outputs": [
        {
          "output_type": "stream",
          "text": [
            "Input text:\n",
            "そもそも、「小平のために」議論したい人は、的な価値観を持っているのではないかな。の価値観の人だと「市議会や町内会などがあるのに、なんで普通の人が議論しているんだ」と思っていたり、の価値観の人だと「好きな人が勝手にやればよい」なんて思っているような気がします。そういう価値観を、敢えて明示させることによって、逆にいろんな議論ができると期待するのですが、どうですかね。もちろん他の価値観に関する議題はあると思います. 例えば、の価値観でいうと、小平市って、飛騨高山の家具職人の人が「なぜこんな立派な木が生えているの？」と驚くくらいの大木が民家の庭先にあったりする。それって、小平市の大きな特長だと思うのだけれど、そういう木が個人の努力（少しは市の援助があるらしい）で保存されているのって、小平の将来を考えると大きな課題なんじゃないかなと思いませんか。でも、本当の事を言うと、小平市って生活するのにほとんど困らないから、あまり小平市の事を考えてこなかったのが事実です。でも、最近、近所に高齢者しか住んでいない古い家が多くなってきて、諸々を相談されることが増えてきています。家の修理とか信頼できる工務店が何処にあるのかよく分からないじゃないですか。そういうのを気楽に相談できるところがあるといいなと思うのですが、どうですか。 本物の論点で実際に、議論することで、何かいい議論の結果を出すというのがいいですね.議論のネタの一つとして、ちょっと古いですが、自治条例を小平市が作った時の検討部会の課題が乗ってまして、これって、わりと普遍的な議論ネタだと思います.第１部会 検討の記録.\n"
          ],
          "name": "stdout"
        }
      ]
    },
    {
      "cell_type": "markdown",
      "metadata": {
        "id": "c9cv2IF0JWJU",
        "colab_type": "text"
      },
      "source": [
        "要約の出力"
      ]
    },
    {
      "cell_type": "code",
      "metadata": {
        "id": "NH7d3EWKOFbs",
        "colab_type": "code",
        "outputId": "d6c4f0a6-1318-489f-baa2-ee28b739f9ff",
        "colab": {
          "base_uri": "https://localhost:8080/",
          "height": 255
        }
      },
      "source": [
        "print('Summary:')\n",
        "print(summarize(text,ratio=0.5))"
      ],
      "execution_count": 0,
      "outputs": [
        {
          "output_type": "stream",
          "text": [
            "2019-05-21 11:37:22,070 : WARNING : Input text is expected to have at least 10 sentences.\n",
            "2019-05-21 11:37:22,074 : INFO : adding document #0 to Dictionary(0 unique tokens: [])\n",
            "2019-05-21 11:37:22,075 : INFO : built Dictionary(53 unique tokens: ['thoma', 'anderson', 'live', 'man', 'averag']...) from 6 documents (total 68 corpus positions)\n",
            "2019-05-21 11:37:22,076 : WARNING : Input corpus is expected to have at least 10 documents.\n",
            "2019-05-21 11:37:22,078 : INFO : Building graph\n",
            "2019-05-21 11:37:22,079 : INFO : Filling graph\n",
            "2019-05-21 11:37:22,081 : INFO : Removing unreachable nodes of graph\n",
            "2019-05-21 11:37:22,082 : INFO : Pagerank graph\n",
            "2019-05-21 11:37:22,130 : INFO : Sorting pagerank scores\n"
          ],
          "name": "stderr"
        },
        {
          "output_type": "stream",
          "text": [
            "Summary:\n",
            "By day he is an average computer programmer and by night a hacker known as Neo. Neo has always questioned his reality, but the truth is far beyond his imagination.\n",
            "Morpheus awakens Neo to the real world, a ravaged wasteland where most of humanity have been captured by a race of machines that live off of the humans' body heat and electrochemical energy and who imprison their minds within an artificial reality known as the Matrix.\n",
            "As a rebel against the machines, Neo must return to the Matrix and confront the agents: super-powerful computer programs devoted to snuffing out Neo and the entire human rebellion.\n"
          ],
          "name": "stdout"
        }
      ]
    },
    {
      "cell_type": "markdown",
      "metadata": {
        "id": "-wbwA-RtJuaz",
        "colab_type": "text"
      },
      "source": [
        "キーワード抽出　https://radimrehurek.com/gensim/summarization/keywords.html"
      ]
    },
    {
      "cell_type": "code",
      "metadata": {
        "id": "TdBiIjmmR-AY",
        "colab_type": "code",
        "outputId": "8fe077c6-a594-4321-a7d9-b95703b51a4d",
        "colab": {
          "base_uri": "https://localhost:8080/",
          "height": 151
        }
      },
      "source": [
        "from gensim.summarization import keywords\n",
        "\n",
        "print('Keywords:')\n",
        "print(keywords(text)) "
      ],
      "execution_count": 0,
      "outputs": [
        {
          "output_type": "stream",
          "text": [
            "Keywords:\n",
            "neo\n",
            "humanity\n",
            "human\n",
            "humans body\n",
            "super\n",
            "hacker\n",
            "reality\n"
          ],
          "name": "stdout"
        }
      ]
    },
    {
      "cell_type": "markdown",
      "metadata": {
        "id": "vxqsvxY7J6CS",
        "colab_type": "text"
      },
      "source": [
        "# ここまで。。　これ以降は、ツールかな？"
      ]
    },
    {
      "cell_type": "markdown",
      "metadata": {
        "id": "q9uXP_mkJz4V",
        "colab_type": "text"
      },
      "source": [
        "Google Colab に、ファイルをアップロードする方法　"
      ]
    },
    {
      "cell_type": "code",
      "metadata": {
        "id": "KArORGX5W8xD",
        "colab_type": "code",
        "outputId": "87f6870d-bdda-4ea3-ace1-328efbc6236a",
        "colab": {
          "resources": {
            "http://localhost:8080/nbextensions/google.colab/files.js": {
              "data": "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",
              "ok": true,
              "headers": [
                [
                  "content-type",
                  "application/javascript"
                ]
              ],
              "status": 200,
              "status_text": ""
            }
          },
          "base_uri": "https://localhost:8080/",
          "height": 79
        }
      },
      "source": [
        "from google.colab import files\n",
        "uploaded = files.upload()"
      ],
      "execution_count": 0,
      "outputs": [
        {
          "output_type": "display_data",
          "data": {
            "text/html": [
              "\n",
              "     <input type=\"file\" id=\"files-2033c91c-812f-4e86-91c9-f0520dc7e453\" name=\"files[]\" multiple disabled />\n",
              "     <output id=\"result-2033c91c-812f-4e86-91c9-f0520dc7e453\">\n",
              "      Upload widget is only available when the cell has been executed in the\n",
              "      current browser session. Please rerun this cell to enable.\n",
              "      </output>\n",
              "      <script src=\"/nbextensions/google.colab/files.js\"></script> "
            ],
            "text/plain": [
              "<IPython.core.display.HTML object>"
            ]
          },
          "metadata": {
            "tags": []
          }
        },
        {
          "output_type": "stream",
          "text": [
            "Saving a_aki.txt to a_aki.txt\n"
          ],
          "name": "stdout"
        }
      ]
    },
    {
      "cell_type": "markdown",
      "metadata": {
        "id": "BDHzhvdlKFdA",
        "colab_type": "text"
      },
      "source": [
        "!ls -a とかで確認　Linuxコマンドを使う"
      ]
    },
    {
      "cell_type": "code",
      "metadata": {
        "id": "Dj-r7Q4uXUP5",
        "colab_type": "code",
        "colab": {}
      },
      "source": [
        "!cp a_aki.txt aki.txt"
      ],
      "execution_count": 0,
      "outputs": []
    },
    {
      "cell_type": "markdown",
      "metadata": {
        "id": "H1tD9-vBKRhw",
        "colab_type": "text"
      },
      "source": [
        "文字コードの変換"
      ]
    },
    {
      "cell_type": "code",
      "metadata": {
        "id": "bs-9J-FsSJ0P",
        "colab_type": "code",
        "outputId": "fef41a58-3055-4b26-c190-b2cc1001055c",
        "colab": {
          "base_uri": "https://localhost:8080/",
          "height": 258
        }
      },
      "source": [
        "import requests\n",
        "import codecs\n",
        "\n",
        "#text = requests.get('aki.txt').text\n",
        "\n",
        "test_data = codecs.open(\"aki.txt\", \"r\", \"shift_jis\")\n",
        "text = test_data.read()\n",
        "\n",
        "print('Summary:') \n",
        "print(summarize(text, ratio=0.01)) \n",
        "\n",
        "print('\\nKeywords:') \n",
        "print(keywords(text, ratio=0.01)) "
      ],
      "execution_count": 0,
      "outputs": [
        {
          "output_type": "stream",
          "text": [
            "2019-05-21 07:58:05,885 : INFO : adding document #0 to Dictionary(0 unique tokens: [])\n",
            "2019-05-21 07:58:05,887 : INFO : built Dictionary(47 unique tokens: ['ア、秋', '太宰治', '【テキスト中に現れる記号について】', '《》：ルビ', '（例）蜻蛉《とんぼ》']...) from 44 documents (total 47 corpus positions)\n",
            "2019-05-21 07:58:05,892 : INFO : Building graph\n",
            "2019-05-21 07:58:05,895 : INFO : Filling graph\n",
            "2019-05-21 07:58:05,902 : INFO : Removing unreachable nodes of graph\n",
            "2019-05-21 07:58:05,905 : INFO : Pagerank graph\n",
            "2019-05-21 07:58:05,918 : INFO : Sorting pagerank scores\n",
            "2019-05-21 07:58:05,920 : WARNING : Couldn't get relevant sentences.\n"
          ],
          "name": "stderr"
        },
        {
          "output_type": "stream",
          "text": [
            "Summary:\n",
            "\n",
            "\n",
            "Keywords:\n",
            "\n"
          ],
          "name": "stdout"
        }
      ]
    }
  ]
}