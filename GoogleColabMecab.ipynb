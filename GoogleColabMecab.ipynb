{
  "nbformat": 4,
  "nbformat_minor": 0,
  "metadata": {
    "colab": {
      "name": "GoogleColabMecab.ipynb",
      "version": "0.3.2",
      "provenance": [],
      "include_colab_link": true
    },
    "kernelspec": {
      "name": "python3",
      "display_name": "Python 3"
    }
  },
  "cells": [
    {
      "cell_type": "markdown",
      "metadata": {
        "id": "view-in-github",
        "colab_type": "text"
      },
      "source": [
        "<a href=\"https://colab.research.google.com/github/tom2rd/textmining/blob/master/GoogleColabMecab.ipynb\" target=\"_parent\"><img src=\"https://colab.research.google.com/assets/colab-badge.svg\" alt=\"Open In Colab\"/></a>"
      ]
    },
    {
      "cell_type": "markdown",
      "metadata": {
        "id": "5w79-XtoWDlD",
        "colab_type": "text"
      },
      "source": [
        "#Google colabにMecabを入れてためす\n"
      ]
    },
    {
      "cell_type": "code",
      "metadata": {
        "id": "fjDEawLfV2f1",
        "colab_type": "code",
        "colab": {
          "base_uri": "https://localhost:8080/",
          "height": 459
        },
        "outputId": "3ea71f82-4b96-489b-8541-f11e9ffc118a"
      },
      "source": [
        "!apt install aptitude\n",
        "!aptitude install mecab libmecab-dev mecab-ipadic-utf8 git make curl xz-utils file -y\n",
        "!pip install mecab-python3==0.7"
      ],
      "execution_count": 1,
      "outputs": [
        {
          "output_type": "stream",
          "text": [
            "Reading package lists... Done\n",
            "Building dependency tree       \n",
            "Reading state information... Done\n",
            "aptitude is already the newest version (0.8.10-6ubuntu1).\n",
            "0 upgraded, 0 newly installed, 0 to remove and 8 not upgraded.\n",
            "mecab is already installed at the requested version (0.996-5)\n",
            "libmecab-dev is already installed at the requested version (0.996-5)\n",
            "mecab-ipadic-utf8 is already installed at the requested version (2.7.0-20070801+main-1)\n",
            "git is already installed at the requested version (1:2.17.1-1ubuntu0.4)\n",
            "make is already installed at the requested version (4.1-9.1ubuntu1)\n",
            "curl is already installed at the requested version (7.58.0-2ubuntu3.7)\n",
            "xz-utils is already installed at the requested version (5.2.2-1.3)\n",
            "file is already installed at the requested version (1:5.32-2ubuntu0.2)\n",
            "mecab is already installed at the requested version (0.996-5)\n",
            "libmecab-dev is already installed at the requested version (0.996-5)\n",
            "mecab-ipadic-utf8 is already installed at the requested version (2.7.0-20070801+main-1)\n",
            "git is already installed at the requested version (1:2.17.1-1ubuntu0.4)\n",
            "make is already installed at the requested version (4.1-9.1ubuntu1)\n",
            "curl is already installed at the requested version (7.58.0-2ubuntu3.7)\n",
            "xz-utils is already installed at the requested version (5.2.2-1.3)\n",
            "file is already installed at the requested version (1:5.32-2ubuntu0.2)\n",
            "No packages will be installed, upgraded, or removed.\n",
            "0 packages upgraded, 0 newly installed, 0 to remove and 8 not upgraded.\n",
            "Need to get 0 B of archives. After unpacking 0 B will be used.\n",
            "                            \n",
            "Requirement already satisfied: mecab-python3==0.7 in /usr/local/lib/python3.6/dist-packages (0.7)\n"
          ],
          "name": "stdout"
        }
      ]
    },
    {
      "cell_type": "code",
      "metadata": {
        "id": "qQO6o1ZoWpyT",
        "colab_type": "code",
        "colab": {
          "base_uri": "https://localhost:8080/",
          "height": 901
        },
        "outputId": "7e3fb063-16bb-4a52-b9b2-a2d1ab3aa3f7"
      },
      "source": [
        "import MeCab\n",
        " \n",
        "#mecab = MeCab.Tagger('-d /usr/local/lib/mecab/dic/mecab-ipadic-neologd')\n",
        "mecab = MeCab.Tagger('-Ochasen') #デフォルト辞書を使う場合\n",
        "text = 'この研究では、リカレントニューラルネットワーク（RNN）を適用します。時空間をモデル化するために、シーケンシャル情報を処理する能力土地利用変化（LUC）のダイナミクスとRNNモデルには2つのカテゴリーがあります。'\n",
        "mecab.parse('')\n",
        "node = mecab.parseToNode(text)\n",
        "while node:\n",
        "    #単語取得\n",
        "    word = node.surface\n",
        "    #品詞取得\n",
        "    pos = node.feature.split(\",\")[1]\n",
        "    print('{0} , {1}'.format(word, pos))\n",
        "    #次の単語へ\n",
        "    node = node.next"
      ],
      "execution_count": 3,
      "outputs": [
        {
          "output_type": "stream",
          "text": [
            " , *\n",
            "この , *\n",
            "研究 , サ変接続\n",
            "で , 格助詞\n",
            "は , 係助詞\n",
            "、 , 読点\n",
            "リカレントニューラルネットワーク , 一般\n",
            "（ , 括弧開\n",
            "RNN , 固有名詞\n",
            "） , 括弧閉\n",
            "を , 格助詞\n",
            "適用 , サ変接続\n",
            "し , 自立\n",
            "ます , *\n",
            "。 , 句点\n",
            "時空 , 一般\n",
            "間 , 接尾\n",
            "を , 格助詞\n",
            "モデル , 一般\n",
            "化 , 接尾\n",
            "する , 自立\n",
            "ため , 非自立\n",
            "に , 格助詞\n",
            "、 , 読点\n",
            "シーケンシャル , 一般\n",
            "情報 , 一般\n",
            "を , 格助詞\n",
            "処理 , サ変接続\n",
            "する , 自立\n",
            "能力 , 一般\n",
            "土地 , 一般\n",
            "利用 , サ変接続\n",
            "変化 , サ変接続\n",
            "（ , 括弧開\n",
            "LUC , 固有名詞\n",
            "） , 括弧閉\n",
            "の , 連体化\n",
            "ダイナミクス , 一般\n",
            "と , 並立助詞\n",
            "RNN , 固有名詞\n",
            "モデル , 一般\n",
            "に , 格助詞\n",
            "は , 係助詞\n",
            "2 , 数\n",
            "つ , *\n",
            "の , 連体化\n",
            "カテゴリー , 一般\n",
            "が , 格助詞\n",
            "あり , 自立\n",
            "ます , *\n",
            "。 , 句点\n",
            " , *\n"
          ],
          "name": "stdout"
        }
      ]
    }
  ]
}